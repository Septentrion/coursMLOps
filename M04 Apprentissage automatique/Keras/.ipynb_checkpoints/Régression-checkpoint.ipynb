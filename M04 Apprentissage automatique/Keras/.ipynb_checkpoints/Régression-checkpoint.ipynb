{
 "cells": [
  {
   "cell_type": "markdown",
   "metadata": {},
   "source": [
    "# Le marché immobilier à Boston\n",
    "\n",
    "\n",
    "## Enoncé\n",
    "\n",
    "The problem that we will look at in this tutorial is the Boston house price dataset.\n",
    "\n",
    "Le problème posé dans cet exercice concerne le prix de l'immobiler à Boston, un jeu de données déj à éprouvé.\n",
    "\n",
    "You can download this dataset and save it to your current working directly with the file name housing.csv (update: download data from here).\n",
    "Le jeu de connées peut être téléchargé à cette adresse :\n",
    "\n",
    "The dataset describes 13 numerical properties of houses in Boston suburbs and is concerned with modeling the price of houses in those suburbs in thousands of dollars. As such, this is a regression predictive modeling problem. Input attributes include things like crime rate, proportion of nonretail business acres, chemical concentrations and more.\n",
    "\n",
    "Le jeu de données décrit treize caractéristiques numériques de maisons dans la banlieue de Boston et est destiné à estimer le prix de vente de de maisons dans ces quartiers, en milliers de dollars. C'est typiquement un problème de **régression**. Les caractéristiques contiennentdes données sur le taux de criminalité, la surface industrielle dans la zone, la concentration de produits chimiques, etc.\n",
    "\n",
    "This is a well-studied problem in machine learning. It is convenient to work with because all of the input and output attributes are numerical and there are 506 instances to work with.\n",
    "\n",
    "C'est un exemple déjà bien étudié, et il est très pratique à titre d'exemple car toutes les données sont numériques et \n",
    "\n",
    "Reasonable performance for models evaluated using Mean Squared Error (MSE) are around 20 in squared thousands of dollars (or 4500 if you take the square root). This is a nice target to aim for with our neural network model.\n",
    "\n",
    "**Source** : https://towardsdatascience.com/deep-neural-networks-for-regression-problems-81321897ca33\n",
    "\n",
    "\n",
    "## Méthodologie\n",
    "\n",
    "Pour faire l'exercice en entier, vous devrez suivre ces cinq étapes :\n",
    "\n",
    "1. Télécharger et préparer le jeu de données\n",
    "1. Construire le modèle du réseau de neurones\n",
    "1. Entraîner le réseau\n",
    "1. Valider le réseau sur un ensemble d'exemples de test\n",
    "1. Trouver les meilleurs hyperparamètres pour l'apprentissage\n",
    "\n",
    "Pour faire fonctionner votre programme, vous aurez besoin des bibliothèques suivantes :\n",
    "\n",
    "1. **Keras**, et notamment :\n",
    "    * créer un modèle séquentiel\n",
    "    * créer des couches denses, d'activation et d'aplatissement\n",
    "    * exécuter des callbacks à certains moments de l'exécution\n",
    "1. **Scikit-Learn** :\n",
    "    * pour la consitution d'un ensemble de test\n",
    "    * et pour utiliser l'agorithme *Random Forest*\n",
    "1. Des outils de visualisation :\n",
    "    * **Matplotlib**\n",
    "    * **Seaborn**\n",
    "1. Des outils numériques :\n",
    "    * **Numpy**\n",
    "    * **Pandas**\n",
    "1. **warnings** pour lagestion des erreurs\n",
    "1. **XGBoost** pour l'optimisation du réseau\n",
    "\n",
    "\n",
    "### 1. Préparation\n",
    "\n",
    "\n"
   ]
  }
 ],
 "metadata": {
  "kernelspec": {
   "display_name": "Python 3",
   "language": "python",
   "name": "python3"
  },
  "language_info": {
   "codemirror_mode": {
    "name": "ipython",
    "version": 3
   },
   "file_extension": ".py",
   "mimetype": "text/x-python",
   "name": "python",
   "nbconvert_exporter": "python",
   "pygments_lexer": "ipython3",
   "version": "3.6.9"
  }
 },
 "nbformat": 4,
 "nbformat_minor": 2
}
