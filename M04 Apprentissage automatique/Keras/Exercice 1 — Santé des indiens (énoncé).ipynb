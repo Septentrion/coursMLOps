{
 "cells": [
  {
   "cell_type": "markdown",
   "metadata": {},
   "source": [
    "# Régression\n",
    "\n",
    "\n",
    "## Enoncé\n",
    "\n",
    "Dans cet exercice, nous allons devoir déterminer si des personnse sont atteintes ou non du diabète en fonction d'un certain nombre de mesures physiologiques.\n"
   ]
  },
  {
   "cell_type": "markdown",
   "metadata": {},
   "source": [
    "## Procédé\n",
    "\n",
    "L'exercice consiste à procéder à toutes les étapes canoniiques d'unprojet d'apprentissage automatique :\n",
    "\n",
    "\n",
    "1. Carger les données.\n",
    "2. Définir le modèle Keras.\n",
    "3. Compiler le modèle.\n",
    "4. Entraîner le modèle.\n",
    "5. Evaluer le modèle.\n",
    "6. Faire des prédictions\n"
   ]
  },
  {
   "cell_type": "markdown",
   "metadata": {},
   "source": [
    "\n",
    "### 1. Charger les données\n",
    "\n",
    "Dans un premier temps, il faut récupérer les données. Pour ce qui nous intéresse, il existe deux jeux possibles :\n",
    "\n",
    "* [Patients diabétiques à l'hôpital de Saint-Louis, Missouri](https://archive.ics.uci.edu/ml/datasets/Diabetes)\n",
    "* [Enquête sur le diabête chez les indiens Pima](https://3wadata01.slack.com/archives/CR41KLYUS/p1582488678000100)\n",
    "\n",
    "Pour l'instant nous sommes dans l'univers Python/Pandas bien connu."
   ]
  },
  {
   "cell_type": "markdown",
   "metadata": {},
   "source": [
    "\n",
    "### 2. Définir le modèle Keras\n",
    "\n",
    "Pour définir le modèle, nous allons devoir indiquer le nombre et l'ordre des couches,ainsi que le type d'architecture de réseau.\n",
    "\n",
    "Nous autons besoin de des sous-modules `models`et `layers` de Keras.\n",
    "\n",
    "Nous voulons un modèle séquentiel avec :\n",
    "\n",
    "* une couche d'entrée (**Input**)\n",
    "    * la couche d'entrée n'est définit que par sa dimension : `shape`\n",
    "* une couche cachée (**Dense**)\n",
    "    * on peut éviter de déclarer explicitement la couche d'entrée en ajoutant le paramètre `input_dims`à la couche suivante\n",
    "* une couche de sortie (**Dense**)\n",
    "    * les couches autres que la couche d'entrée sont définies par leur nombre de neurones et leur fonction d'activation `activation`\n"
   ]
  },
  {
   "cell_type": "markdown",
   "metadata": {},
   "source": [
    "\n",
    "### 3. Compilation du modèle\n",
    "\n",
    "Pour que le modèle soit opérationnel, il faut le compiler avec la méthode `compile`.\n",
    "\n",
    "On lui fournit également trois valeurs :\n",
    "\n",
    "* **loss** : l'estimateur de perte\n",
    "* **optimizer** : l'optimiseur qui va guider la descente de gradient\n",
    "* **metrics** : un ensemble de métriques pour évaluer la performance du réseau\n"
   ]
  },
  {
   "cell_type": "markdown",
   "metadata": {},
   "source": [
    "\n",
    "### 4. Entraînement du réseau\n",
    "\n",
    "une fois cela fait, il suffit d'appeler la méthode `fit` pour apprendre au réseau à reconnaître les situations.\n",
    "\n",
    "Cette methode prend au moins trois arguments :\n",
    "\n",
    "* un ensemble d'exemples d'apprentissage\n",
    "* un ensemble d'étiquettes (de même taille que le précédent)\n",
    "* **epochs** : le nombre d'itérations à effectuer.\n"
   ]
  },
  {
   "cell_type": "markdown",
   "metadata": {},
   "source": [
    "\n",
    "### 5.  Evaluation du modèle\n",
    "\n",
    "Maintenant que le modèle est entraîne, la methode `evaluate` appliquée à un jeu de données de test nous donnera une estimation de la précision du modèle.\n",
    "\n",
    "Ici, nous allon récupérer la métrique `accuracy` que nous avons indiquée lors de la compilation.\n"
   ]
  },
  {
   "cell_type": "markdown",
   "metadata": {},
   "source": [
    "\n",
    "### 6. Faire des prédictions\n",
    "\n",
    "Dernière étape du processus, on souhaite soumettre au réseau des cas nouveaux. Pour avoir une réponse, on utilise la méthode `predict`, appliqué à un ensemble d'exemples (pas nécessairement 1 seul).\n",
    "\n",
    "Comme nous sommes face à unproblèm de classification, le neurone de sortiecontiendra une **probabilité** d'être 0 ou 1. Nous devrons donc arrondir la valeur.\n",
    "\n",
    "Une autre option consiste à utiliser la méthode `predict_to_classes`\n"
   ]
  }
 ],
 "metadata": {
  "kernelspec": {
   "display_name": "Python 3",
   "language": "python",
   "name": "python3"
  },
  "language_info": {
   "codemirror_mode": {
    "name": "ipython",
    "version": 3
   },
   "file_extension": ".py",
   "mimetype": "text/x-python",
   "name": "python",
   "nbconvert_exporter": "python",
   "pygments_lexer": "ipython3",
   "version": "3.6.9"
  }
 },
 "nbformat": 4,
 "nbformat_minor": 2
}
