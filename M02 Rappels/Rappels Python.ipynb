{
 "cells": [
  {
   "cell_type": "code",
   "execution_count": 1,
   "id": "c0e97554",
   "metadata": {},
   "outputs": [
    {
     "name": "stdout",
     "output_type": "stream",
     "text": [
      "The Zen of Python, by Tim Peters\n",
      "\n",
      "Beautiful is better than ugly.\n",
      "Explicit is better than implicit.\n",
      "Simple is better than complex.\n",
      "Complex is better than complicated.\n",
      "Flat is better than nested.\n",
      "Sparse is better than dense.\n",
      "Readability counts.\n",
      "Special cases aren't special enough to break the rules.\n",
      "Although practicality beats purity.\n",
      "Errors should never pass silently.\n",
      "Unless explicitly silenced.\n",
      "In the face of ambiguity, refuse the temptation to guess.\n",
      "There should be one-- and preferably only one --obvious way to do it.\n",
      "Although that way may not be obvious at first unless you're Dutch.\n",
      "Now is better than never.\n",
      "Although never is often better than *right* now.\n",
      "If the implementation is hard to explain, it's a bad idea.\n",
      "If the implementation is easy to explain, it may be a good idea.\n",
      "Namespaces are one honking great idea -- let's do more of those!\n"
     ]
    }
   ],
   "source": [
    "import this"
   ]
  },
  {
   "cell_type": "code",
   "execution_count": 2,
   "id": "36dff923",
   "metadata": {},
   "outputs": [
    {
     "name": "stdout",
     "output_type": "stream",
     "text": [
      "22\n",
      "1\n",
      "101\n",
      "test LEGB\n",
      "22\n"
     ]
    }
   ],
   "source": [
    "# G espace global\n",
    "a = 101\n",
    "b = 22\n",
    "\n",
    "def foo():\n",
    "    print(b)\n",
    "    def bar():\n",
    "        b = 1\n",
    "        # E englobant puis il remonte\n",
    "        def baz():\n",
    "            # Python b regarde localement L\n",
    "            print(b)\n",
    "            print(a)\n",
    "\n",
    "        baz()\n",
    "        \n",
    "    bar()\n",
    "    \n",
    "    return \"test LEGB\"\n",
    "\n",
    "print( foo() )\n",
    "print(b)"
   ]
  },
  {
   "cell_type": "code",
   "execution_count": 3,
   "id": "f00a9149",
   "metadata": {},
   "outputs": [
    {
     "data": {
      "text/plain": [
       "'\\nje decouvre le LEGB\\n\\n'"
      ]
     },
     "execution_count": 3,
     "metadata": {},
     "output_type": "execute_result"
    }
   ],
   "source": [
    "# print = 1\n",
    "\n",
    "# print(1)\n",
    "\n",
    "\"\"\"\n",
    "je decouvre le LEGB\n",
    "\n",
    "\"\"\""
   ]
  },
  {
   "cell_type": "code",
   "execution_count": 5,
   "id": "78edad77",
   "metadata": {},
   "outputs": [
    {
     "name": "stdout",
     "output_type": "stream",
     "text": [
      "1\n",
      "1\n"
     ]
    }
   ],
   "source": [
    "a = 1 \n",
    "\n",
    "# Globale ? === OUI\n",
    "def foo():\n",
    "    # Englobant ?\n",
    "    print(a)\n",
    "    # Englobant ?\n",
    "    def foo2():\n",
    "        #Englobant ?\n",
    "        def foo3():\n",
    "            # Localement ?\n",
    "            print(a)\n",
    "            \n",
    "        foo3()\n",
    "    foo2()\n",
    "    \n",
    "    \n",
    "foo()\n"
   ]
  },
  {
   "cell_type": "code",
   "execution_count": 7,
   "id": "8ca42849",
   "metadata": {},
   "outputs": [
    {
     "name": "stdout",
     "output_type": "stream",
     "text": [
      "Model\n"
     ]
    }
   ],
   "source": [
    "\"\"\"\n",
    "\n",
    "Ne marche pas en Python\n",
    "\n",
    "\n",
    "model()\n",
    "\n",
    "\n",
    "def model():\n",
    "    print(\"Model\")\n",
    "    \n",
    "    \n",
    "\"\"\""
   ]
  },
  {
   "cell_type": "code",
   "execution_count": 11,
   "id": "9a1aaf78",
   "metadata": {},
   "outputs": [
    {
     "data": {
      "text/plain": [
       "(1, 2, 3, 4, 5, 6, 7, 8, 9, 10)"
      ]
     },
     "execution_count": 11,
     "metadata": {},
     "output_type": "execute_result"
    }
   ],
   "source": [
    "def g(*t):\n",
    "    return t\n",
    "\n",
    "g(1,2,3,4,5,6,7,8,9,10) # 1,2,3"
   ]
  },
  {
   "cell_type": "code",
   "execution_count": 13,
   "id": "f044adc1",
   "metadata": {},
   "outputs": [
    {
     "data": {
      "text/plain": [
       "{'a': 1, 'b': 2, 'c': 3}"
      ]
     },
     "execution_count": 13,
     "metadata": {},
     "output_type": "execute_result"
    }
   ],
   "source": [
    "def h(**d):\n",
    "    return d\n",
    "\n",
    "h(a =1, b= 2, c =3) "
   ]
  },
  {
   "cell_type": "code",
   "execution_count": 20,
   "id": "ca3c9bdd",
   "metadata": {},
   "outputs": [
    {
     "name": "stdout",
     "output_type": "stream",
     "text": [
      "7\n",
      "12\n",
      "17\n",
      "22\n"
     ]
    }
   ],
   "source": [
    "\"\"\"\n",
    "Additonner une valeur sur 3 de l avec une valeur sur 2 de m\n",
    "\"\"\"\n",
    "\n",
    "l = [1,2,3,4,5,6,7,8,9,10]\n",
    "\n",
    "m = [6,7,8,9,10,11,12]\n",
    "\n",
    "l2 = l[::3]\n",
    "l2\n",
    "m2 = m[::2]\n",
    "m2\n",
    "for i in range(len(l2)):\n",
    "    print(l2[i] + m2[i])"
   ]
  },
  {
   "cell_type": "code",
   "execution_count": 22,
   "id": "ae1bf717",
   "metadata": {},
   "outputs": [
    {
     "name": "stdout",
     "output_type": "stream",
     "text": [
      "1 2\n"
     ]
    }
   ],
   "source": [
    "for a, b in [(1,2)]:\n",
    "    print(a,b)"
   ]
  },
  {
   "cell_type": "code",
   "execution_count": 39,
   "id": "75b83757",
   "metadata": {},
   "outputs": [
    {
     "data": {
      "text/plain": [
       "[7, 12, 17, 22]"
      ]
     },
     "execution_count": 39,
     "metadata": {},
     "output_type": "execute_result"
    }
   ],
   "source": [
    "[a + b for a, b in zip(l[::3], m[0:len(m):2])]"
   ]
  },
  {
   "cell_type": "code",
   "execution_count": 32,
   "id": "fa3e4200",
   "metadata": {},
   "outputs": [
    {
     "name": "stdout",
     "output_type": "stream",
     "text": [
      "[1, 4, 7, 10]\n"
     ]
    },
    {
     "data": {
      "text/plain": [
       "[6, 8, 10, 12]"
      ]
     },
     "execution_count": 32,
     "metadata": {},
     "output_type": "execute_result"
    }
   ],
   "source": [
    "print(l2)\n",
    "m2"
   ]
  },
  {
   "cell_type": "code",
   "execution_count": 36,
   "id": "10431672",
   "metadata": {},
   "outputs": [
    {
     "name": "stdout",
     "output_type": "stream",
     "text": [
      "1 2\n",
      "2 1\n"
     ]
    }
   ],
   "source": [
    "a, b = (1, 2)\n",
    "\n",
    "print(a, b)\n",
    "\n",
    "a, b = b, a\n",
    "\n",
    "print (a, b)"
   ]
  },
  {
   "cell_type": "code",
   "execution_count": 41,
   "id": "d987dd6f",
   "metadata": {},
   "outputs": [
    {
     "name": "stdout",
     "output_type": "stream",
     "text": [
      "[1, 4, 9]\n"
     ]
    }
   ],
   "source": [
    "r = []\n",
    "for e in [1,2,3]:\n",
    "    r.append(e**2)\n",
    "    \n",
    "print(r)"
   ]
  },
  {
   "cell_type": "code",
   "execution_count": 42,
   "id": "6238659d",
   "metadata": {},
   "outputs": [
    {
     "name": "stdout",
     "output_type": "stream",
     "text": [
      "[1, 4, 9]\n"
     ]
    }
   ],
   "source": [
    "r = [ e**2 for e in [1,2,3] ]\n",
    "\n",
    "print(r)"
   ]
  },
  {
   "cell_type": "code",
   "execution_count": 45,
   "id": "568baeba",
   "metadata": {},
   "outputs": [
    {
     "name": "stdout",
     "output_type": "stream",
     "text": [
      "[6, 7, 8, 9, 10, 12, 14, 16, 18, 20, 18, 21, 24, 27, 30, 24, 28, 32, 36, 40, 30, 35, 40, 45, 50]\n",
      "600\n",
      "[6, 7, 8, 9, 10, 12, 14, 16, 18, 20, 18, 21, 24, 27, 30, 24, 28, 32, 36, 40, 30, 35, 40, 45, 50]\n",
      "600\n"
     ]
    }
   ],
   "source": [
    "\"\"\"\n",
    "\n",
    "1. multipliez chaque terme de la liste l avec les éléments de la liste m\n",
    "\n",
    "2. Additionnez l'ensemble de ces valeurs \n",
    "\n",
    "\"\"\"\n",
    "\n",
    "\n",
    "l = [1,2,3,4,5]\n",
    "m = [6,7,8,9,10]\n",
    "\n",
    "# méthode classique\n",
    "r = []\n",
    "for i in l:\n",
    "    for j in m:\n",
    "        r.append(i*j)\n",
    "        \n",
    "print(r)\n",
    "print( sum(r) )\n",
    "\n",
    "\n",
    "# compréhension de liste\n",
    "r = [ i*j for i in l for j in m ]\n",
    "print(r)\n",
    "\n",
    "print( sum(i*j for i in l for j in m) )\n",
    "\n"
   ]
  },
  {
   "cell_type": "code",
   "execution_count": 47,
   "id": "439c1677",
   "metadata": {},
   "outputs": [
    {
     "name": "stdout",
     "output_type": "stream",
     "text": [
      "[1, 2, 3, 4, 5]\n",
      "[1, 2000, 3, 4, 5]\n"
     ]
    }
   ],
   "source": [
    "l = [1,2,3,4,5]\n",
    "\n",
    "p = l[:] \n",
    "\n",
    "p[1]=2000\n",
    "\n",
    "print(l)\n",
    "print(p)"
   ]
  },
  {
   "cell_type": "code",
   "execution_count": 48,
   "id": "ac510b06",
   "metadata": {},
   "outputs": [
    {
     "name": "stdout",
     "output_type": "stream",
     "text": [
      "[[1, 2000], [10, 20]]\n",
      "[[1, 2000], [10, 20]]\n"
     ]
    }
   ],
   "source": [
    "l = [[1, 2], [10, 20]]\n",
    "p = l[:] \n",
    "\n",
    "p[0][1] = 2000\n",
    "\n",
    "print(l)\n",
    "print(p)"
   ]
  },
  {
   "cell_type": "code",
   "execution_count": null,
   "id": "a6f3bd93",
   "metadata": {},
   "outputs": [],
   "source": []
  }
 ],
 "metadata": {
  "kernelspec": {
   "display_name": "Python 3 (ipykernel)",
   "language": "python",
   "name": "python3"
  },
  "language_info": {
   "codemirror_mode": {
    "name": "ipython",
    "version": 3
   },
   "file_extension": ".py",
   "mimetype": "text/x-python",
   "name": "python",
   "nbconvert_exporter": "python",
   "pygments_lexer": "ipython3",
   "version": "3.8.8"
  }
 },
 "nbformat": 4,
 "nbformat_minor": 5
}
