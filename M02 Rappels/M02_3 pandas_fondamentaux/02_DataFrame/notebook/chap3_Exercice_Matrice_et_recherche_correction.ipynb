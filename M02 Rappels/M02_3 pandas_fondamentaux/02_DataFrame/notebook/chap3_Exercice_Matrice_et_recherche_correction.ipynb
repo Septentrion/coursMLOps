{
 "cells": [
  {
   "cell_type": "markdown",
   "metadata": {},
   "source": [
    "Corrections\n",
    "\n",
    "```python\n",
    "import pandas as pd\n",
    "import numpy as np\n",
    "\n",
    "data = [ \n",
    "    [13,  54,  23,  23,  62,  29,  53,  15,  54 , 67],\n",
    "    [13,  54,  23,  23,  62,  29,  53,  15,  54,  67],\n",
    "    [98,  36,  34,  40,  13,  92,  41,  61 , 94,  62],\n",
    "    [33,  87,  46,  44,  82,  87,  11,  76,  76,  21],\n",
    "    [56,  16 , 13,  91,  64,  13,  77,  44,  44,  27],\n",
    "    [15 , 87,  20,  50,  53,  48,  39,  38,  91,  32],\n",
    "    [93,  48,  28,  27,  50 , 55 , 28 , 38  ,78 , 85],\n",
    "    [76,  58 , 26  ,89 , 88  ,71 , 97 , 80,  42,  52],\n",
    "    [38,  98,  55,  61,  75,  82 , 37,  64,  87,  83],\n",
    "    [24,  53,  16,  84,  82,  13,  18,  18,  82,  51],\n",
    "  ]\n",
    "\n",
    "A = pd.DataFrame(data, index=list(\"abcdefghij\"), columns=list(\"abcdefghij\".upper()))\n",
    "A.drop_duplicates(inplace=True)\n",
    "\n",
    "# 2. compter les occurences du DataFrame\n",
    "\n",
    "# Première solution un peu technique ...\n",
    "\n",
    "stat = {}\n",
    "# on itère sur le nom des colonnes\n",
    "for column in A:\n",
    "    # On parcourt les valeurs unique par colonne\n",
    "    for unique in A[column].unique():\n",
    "        # On compte de manière globale sur tout le DataFrame\n",
    "        # Donc si on a déjà compté la valeur dans stat on ne le refait pas\n",
    "        if unique not in stat:\n",
    "            # (A == unique).sum() compte par colonne il faut donc l'appliquer\n",
    "            # une deuxième fois\n",
    "            stat[unique] = (A == unique).sum().sum()\n",
    "            \n",
    "print(stat)\n",
    "\n",
    "# Une autre solution plus simple\n",
    "\n",
    "stat = {}\n",
    "\n",
    "for index, row in A.iterrows():\n",
    "    for number in row:\n",
    "        # la première fois pour number on initialise stat à 0\n",
    "        # pour pouvoir compter le nombre d'occurence\n",
    "        if not in stat:\n",
    "            stat[number] = 0\n",
    "        stat[number] += 1\n",
    "\n",
    "# 3. Somme des nombres pairs de chaque ligne\n",
    "\n",
    "A[A % 2  == 0].sum(axis=1)\n",
    "\n",
    "```"
   ]
  },
  {
   "cell_type": "code",
   "execution_count": 2,
   "metadata": {},
   "outputs": [
    {
     "name": "stdout",
     "output_type": "stream",
     "text": [
      "A    1\n",
      "B    0\n",
      "C    1\n",
      "D    0\n",
      "E    1\n",
      "F    2\n",
      "G    0\n",
      "H    0\n",
      "I    0\n",
      "J    0\n",
      "dtype: int64\n",
      "{11: 1, 13: 5, 15: 2, 16: 2, 18: 2, 20: 1, 21: 1, 23: 2, 24: 1, 26: 1, 27: 2, 28: 2, 29: 1, 32: 1, 33: 1, 34: 1, 36: 1, 37: 1, 38: 3, 39: 1, 40: 1, 41: 1, 42: 1, 44: 3, 46: 1, 48: 2, 50: 2, 51: 1, 52: 1, 53: 3, 54: 2, 55: 2, 56: 1, 58: 1, 61: 2, 62: 2, 64: 2, 67: 1, 71: 1, 75: 1, 76: 3, 77: 1, 78: 1, 80: 1, 82: 4, 83: 1, 84: 1, 85: 1, 87: 4, 88: 1, 89: 1, 91: 2, 92: 1, 93: 1, 94: 1, 97: 1, 98: 2}\n"
     ]
    },
    {
     "data": {
      "text/plain": [
       "a    170.0\n",
       "c    456.0\n",
       "d    324.0\n",
       "e    224.0\n",
       "f    188.0\n",
       "g    270.0\n",
       "h    422.0\n",
       "i    282.0\n",
       "j    324.0\n",
       "dtype: float64"
      ]
     },
     "execution_count": 2,
     "metadata": {},
     "output_type": "execute_result"
    }
   ],
   "source": [
    "import pandas as pd\n",
    "import numpy as np\n",
    "\n",
    "data = [ \n",
    "    [13,  54,  23,  23,  62,  29,  53,  15,  54 , 67],\n",
    "    [13,  54,  23,  23,  62,  29,  53,  15,  54,  67],\n",
    "    [98,  36,  34,  40,  13,  92,  41,  61 , 94,  62],\n",
    "    [33,  87,  46,  44,  82,  87,  11,  76,  76,  21],\n",
    "    [56,  16 , 13,  91,  64,  13,  77,  44,  44,  27],\n",
    "    [15 , 87,  20,  50,  53,  48,  39,  38,  91,  32],\n",
    "    [93,  48,  28,  27,  50 , 55 , 28 , 38  ,78 , 85],\n",
    "    [76,  58 , 26  ,89 , 88  ,71 , 97 , 80,  42,  52],\n",
    "    [38,  98,  55,  61,  75,  82 , 37,  64,  87,  83],\n",
    "    [24,  53,  16,  84,  82,  13,  18,  18,  82,  51],\n",
    "  ]\n",
    "\n",
    "A = pd.DataFrame(data, index=list(\"abcdefghij\"), columns=list(\"abcdefghij\".upper()))\n",
    "A.drop_duplicates(inplace=True)\n",
    "\n",
    "\n",
    "stat = {}\n",
    "print((A == 13).sum())\n",
    "\n",
    "# on itère sur le nom des colonnes\n",
    "for column in A:\n",
    "    # On parcourt les valeurs unique par colonne\n",
    "    for unique in A[column].unique():\n",
    "        # On compte de manière globale sur tout le DataFrame\n",
    "        # Donc si on a déjà compté la valeur dans stat on ne le refait pas\n",
    "        if unique not in stat:\n",
    "            # (A == unique).sum() compte \n",
    "            stat[unique] = (A == unique).sum().sum()\n",
    "            \n",
    "print(stat)\n",
    "\n",
    "# 3. Somme des nombres pairs de chaque ligne\n",
    "\n",
    "A[A % 2  == 0].sum(axis=1)"
   ]
  },
  {
   "cell_type": "code",
   "execution_count": 6,
   "metadata": {},
   "outputs": [
    {
     "name": "stdout",
     "output_type": "stream",
     "text": [
      "A    13\n",
      "B    21\n",
      "C    10\n",
      "dtype: int64\n",
      "0.07692307692307693 0.3076923076923077 0.6153846153846154\n"
     ]
    },
    {
     "data": {
      "text/html": [
       "<div>\n",
       "<style scoped>\n",
       "    .dataframe tbody tr th:only-of-type {\n",
       "        vertical-align: middle;\n",
       "    }\n",
       "\n",
       "    .dataframe tbody tr th {\n",
       "        vertical-align: top;\n",
       "    }\n",
       "\n",
       "    .dataframe thead th {\n",
       "        text-align: right;\n",
       "    }\n",
       "</style>\n",
       "<table border=\"1\" class=\"dataframe\">\n",
       "  <thead>\n",
       "    <tr style=\"text-align: right;\">\n",
       "      <th></th>\n",
       "      <th>A</th>\n",
       "      <th>B</th>\n",
       "      <th>C</th>\n",
       "    </tr>\n",
       "  </thead>\n",
       "  <tbody>\n",
       "    <tr>\n",
       "      <th>E</th>\n",
       "      <td>0.076923</td>\n",
       "      <td>0.285714</td>\n",
       "      <td>0.3</td>\n",
       "    </tr>\n",
       "    <tr>\n",
       "      <th>F</th>\n",
       "      <td>0.307692</td>\n",
       "      <td>0.333333</td>\n",
       "      <td>0.2</td>\n",
       "    </tr>\n",
       "    <tr>\n",
       "      <th>G</th>\n",
       "      <td>0.615385</td>\n",
       "      <td>0.380952</td>\n",
       "      <td>0.5</td>\n",
       "    </tr>\n",
       "  </tbody>\n",
       "</table>\n",
       "</div>"
      ],
      "text/plain": [
       "          A         B    C\n",
       "E  0.076923  0.285714  0.3\n",
       "F  0.307692  0.333333  0.2\n",
       "G  0.615385  0.380952  0.5"
      ]
     },
     "execution_count": 6,
     "metadata": {},
     "output_type": "execute_result"
    }
   ],
   "source": [
    "Matrice = pd.DataFrame([[1,6,3], [4, 7, 2], [8, 8, 5]], index=list(\"EFG\"), columns=list('ABC'))\n",
    "\n",
    "print(Matrice.sum())\n",
    "\n",
    "print(1/13,  4/13, 8/13)\n",
    "\n",
    "Matrice / Matrice.sum()"
   ]
  },
  {
   "cell_type": "code",
   "execution_count": 13,
   "metadata": {},
   "outputs": [
    {
     "name": "stdout",
     "output_type": "stream",
     "text": [
      "   A   B   C   D   E   F   G   H   I\n",
      "a  1   2   3   4   5   6   7   8   9\n",
      "b  2   4   6   8  10  12  14  16  18\n",
      "c  3   6   9  12  15  18  21  24  27\n",
      "d  4   8  12  16  20  24  28  32  36\n",
      "e  5  10  15  20  25  30  35  40  45\n",
      "f  6  12  18  24  30  36  42  48  54\n",
      "g  7  14  21  28  35  42  49  56  63\n",
      "h  8  16  24  32  40  48  56  64  72\n",
      "i  9  18  27  36  45  54  63  72  81\n",
      "      A   B   C   D   E   F   G   H   I\n",
      "a  12.0   2   3   4   5   6   7   8   9\n",
      "b   8.0   4   6   8  10  12  14  16  18\n",
      "c   7.0   6   9  12  15  18  21  24  27\n",
      "d  12.0   8  12  16  20  24  28  32  36\n",
      "e   5.0  10  15  20  25  30  35  40  45\n",
      "f  15.0  12  18  24  30  36  42  48  54\n",
      "g  14.0  14  21  28  35  42  49  56  63\n",
      "h  16.0  16  24  32  40  48  56  64  72\n",
      "i  22.0  18  27  36  45  54  63  72  81\n"
     ]
    }
   ],
   "source": [
    "A = pd.DataFrame( np.arange(1, 10) * np.arange(1, 10).reshape(9,1),\n",
    "                 index=list(\"abcdefghi\"), \n",
    "                 columns=list(\"abcdefghi\".upper()) )\n",
    "# Moyenne \n",
    "\n",
    "A.mean(axis = 0)\n",
    "A.mean(axis = 1)\n",
    "\n",
    "# 2. Ajoutez la matrice B à l'unique colonne de la matrice A possible. Puis faites la somme en ligne, puis en colonne en utilisant la transposition.\n",
    "B = pd.DataFrame([11, 6, 4, 8, 0, 9, 7, 8, 13], index=list(\"abcdefghi\"), columns=['A'])\n",
    "\n",
    "print(A)\n",
    "A['A'] =  B + A\n",
    "\n",
    "print(A)\n"
   ]
  }
 ],
 "metadata": {
  "kernelspec": {
   "display_name": "Python 3",
   "language": "python",
   "name": "python3"
  },
  "language_info": {
   "codemirror_mode": {
    "name": "ipython",
    "version": 3
   },
   "file_extension": ".py",
   "mimetype": "text/x-python",
   "name": "python",
   "nbconvert_exporter": "python",
   "pygments_lexer": "ipython3",
   "version": "3.5.2"
  }
 },
 "nbformat": 4,
 "nbformat_minor": 2
}
