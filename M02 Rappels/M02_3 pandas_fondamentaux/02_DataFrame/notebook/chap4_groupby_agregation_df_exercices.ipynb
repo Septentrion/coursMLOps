{
 "cells": [
  {
   "cell_type": "markdown",
   "metadata": {},
   "source": [
    "# Exercices\n",
    "\n",
    "## Exercice de regroupement par pays\n",
    "\n",
    "1. Reprenez le dataset suivant et donnez le nombre d'enfant(s) par ville dans un tableau à deux colonnes **city** & **num_children**.\n",
    "\n",
    "2. Quel est l'écart des ages des habitants par ville ?\n",
    "\n",
    "3. Est-ce que les femmes mariées ont plus d'enfant que les hommes divorcés ?\n",
    "\n",
    "4. Quelle est la ville ou les femmes ont le plus de chien ? Même question pour les hommes ?\n",
    "\n",
    "```python\n",
    "dataset = {\n",
    "    'name':['john','mary','peter','jeff','bill','lisa','jose'],\n",
    "    'age':[23,78,22,19,45,33,20],\n",
    "    'gender':['M','F','M','M','M','F','M'],\n",
    "    'city':['Paris','Lille','Paris','Lille',\n",
    "    'Paris','Bordeaux','Bordeaux'],\n",
    "    'num_children':[3,0,2,4,3,1,5],\n",
    "    'num_pet':[5,1,0,5,2,2,3],\n",
    "    'status' : ['married', 'married', 'married', 'divorced', 'divorced', 'married', 'married']\n",
    "}\n",
    "```\n"
   ]
  },
  {
   "cell_type": "code",
   "execution_count": null,
   "metadata": {},
   "outputs": [],
   "source": []
  },
  {
   "cell_type": "markdown",
   "metadata": {},
   "source": [
    "## Exercice pourboires\n",
    "\n",
    "Vous allez travailler avec un jeu de données : **tips**, pourboires dans un restaurant.\n",
    "\n",
    "Récupérez la source à l'adresse suivante : [tips](https://github.com/pandas-dev/pandas/blob/master/doc/data/tips.csv)\n",
    "\n",
    "Vous enregistrerez ce fichier à la racine de vos notebooks, puis importez le dans votre notebook de la manière suivante :\n",
    "\n",
    "```python\n",
    "tips = pd.read_csv('data/tips.csv')\n",
    "```\n",
    "\n",
    "1. Ajoutez une colonne **tips_perct** au DataFrame tips, elle calculera le pourcentage de chaque pourboire par rapport au total des pourboires.\n",
    "\n",
    "2. Quelles sont les pourcentages des pourboires par rapport au sex et à la consommation de tabac ? Donnez leurs moyennes et écarts types.\n",
    "\n",
    "3. Calculez l'étendue des pourboires pour les femmes qu'elles fument ou ne fument pas. Créez une fonction peak_to_peak et appliquez cette fonction, comme une fonction d'agrégation, à votre groupement à l'aide de la fonction agg de Pandas.\n",
    "\n",
    "4. En utilisant le même regroupement par sex et smoker et en utilisant la fonction agg de Pandas, calculez le max des pourboires ainsi que le nombre. Vous pouvez passer à la méthode agg un dictionnaire pour spécifier les fonctions à appliquer par colonne."
   ]
  },
  {
   "cell_type": "markdown",
   "metadata": {},
   "source": [
    "## Exercice grouper avec un dictionnaire\n",
    "\n",
    "On supposera qu'il existe une relation entre les colonnes a et b puis c, d et e. On nommera ces deux relations respectivement \"first\" et \"second\".\n",
    "\n",
    "1. Créez le DataFrame population avec les données ci-après.\n",
    "\n",
    "2. Créez un dictionnaire mapping, les clés sont les noms des colonnes et les valeurs les noms des relations. Puis appliquez ce mapping à votre regroupement sur les colonnes. Faites la somme de ces valeurs.\n",
    "\n",
    "```python\n",
    "data = [\n",
    "    [ 1.00337786,  1.60212136,  0.4597855 ,  0.50281771,  0.65316509],\n",
    "    [-0.57524468, -0.19829894,  0.05230613, -0.03159951, -0.42909259],\n",
    "    [ 0.54683457,  1.85576317, -0.62295055, -1.43870874, -0.4367706 ],\n",
    "    [ 1.18701531,  0.59918783,  0.78498521,  1.25839299, -0.97814535],\n",
    "    [ 0.51031798, -2.35260978, -1.87559638, -0.23625731,  2.14360896]\n",
    "]\n",
    "\n",
    " index =  [\"Alan\", \"Bernard\", \"Sophie\", \"Noe\", \"Alice\"]\n",
    " columns = list(\"abcde\")\n",
    "```\n"
   ]
  }
 ],
 "metadata": {
  "kernelspec": {
   "display_name": "Python 3",
   "language": "python",
   "name": "python3"
  },
  "language_info": {
   "codemirror_mode": {
    "name": "ipython",
    "version": 3
   },
   "file_extension": ".py",
   "mimetype": "text/x-python",
   "name": "python",
   "nbconvert_exporter": "python",
   "pygments_lexer": "ipython3",
   "version": "3.5.2"
  }
 },
 "nbformat": 4,
 "nbformat_minor": 2
}
