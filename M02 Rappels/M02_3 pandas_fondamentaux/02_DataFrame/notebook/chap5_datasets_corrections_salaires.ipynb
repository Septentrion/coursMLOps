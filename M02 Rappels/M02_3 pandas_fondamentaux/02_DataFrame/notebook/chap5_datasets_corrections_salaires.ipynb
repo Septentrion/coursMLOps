{
 "cells": [
  {
   "cell_type": "code",
   "execution_count": 7,
   "metadata": {},
   "outputs": [],
   "source": [
    "import pandas as pd\n",
    "import numpy as np\n",
    "# Boston pour la lecture préciser l'encodage utf8 afin d'éviter les problèmes de caractères\n",
    "# Nous reverrons \n",
    "boston = pd.read_csv('data/boston_direct.csv', encoding=\"utf8\")\n",
    "\n",
    "# On supprime les lignes qui posent problèmes exploration des données et surtout la question posée nous oblige\n",
    "# à considérer le type des données.\n",
    "boston = boston[ boston['TOTAL EARNINGS'] != 'TOTAL EARNINGS' ]\n",
    "\n",
    "#boston.head()"
   ]
  },
  {
   "cell_type": "code",
   "execution_count": 47,
   "metadata": {},
   "outputs": [],
   "source": [
    "boston['TOTAL EARNINGS'] = boston['TOTAL EARNINGS'].str.replace(',', '')\n",
    "boston['TOTAL EARNINGS'] = boston['TOTAL EARNINGS'].astype(float)"
   ]
  },
  {
   "cell_type": "code",
   "execution_count": 6,
   "metadata": {},
   "outputs": [],
   "source": [
    "# On groupe traditionnellement les données puis on applique une fonction d'agrégation\n",
    "# cela permet de garder dans un objet, ici groupedGain, les groupements pour d'autres\n",
    "# questions ou traitements sur les données.\n",
    "groupedGain = boston.groupby('DEPARTMENT_NAME')['TOTAL EARNINGS']\n",
    "groupedGain.agg(lambda x : x.max() - x.min())"
   ]
  },
  {
   "cell_type": "code",
   "execution_count": 8,
   "metadata": {},
   "outputs": [
    {
     "data": {
      "text/plain": [
       "pandas.core.series.Series"
      ]
     },
     "execution_count": 8,
     "metadata": {},
     "output_type": "execute_result"
    }
   ],
   "source": [
    "type( boston['TOTAL EARNINGS'] )\n",
    "\n",
    "#boston.head()"
   ]
  },
  {
   "cell_type": "code",
   "execution_count": 2,
   "metadata": {},
   "outputs": [],
   "source": [
    "boston.to_csv('newboston.csv')"
   ]
  },
  {
   "cell_type": "code",
   "execution_count": 5,
   "metadata": {},
   "outputs": [
    {
     "data": {
      "text/html": [
       "<div>\n",
       "<style scoped>\n",
       "    .dataframe tbody tr th:only-of-type {\n",
       "        vertical-align: middle;\n",
       "    }\n",
       "\n",
       "    .dataframe tbody tr th {\n",
       "        vertical-align: top;\n",
       "    }\n",
       "\n",
       "    .dataframe thead th {\n",
       "        text-align: right;\n",
       "    }\n",
       "</style>\n",
       "<table border=\"1\" class=\"dataframe\">\n",
       "  <thead>\n",
       "    <tr style=\"text-align: right;\">\n",
       "      <th></th>\n",
       "      <th>NAME</th>\n",
       "      <th>DEPARTMENT_NAME</th>\n",
       "      <th>TITLE</th>\n",
       "      <th>REGULAR</th>\n",
       "      <th>RETRO</th>\n",
       "      <th>OTHER</th>\n",
       "      <th>OVERTIME</th>\n",
       "      <th>INJURED</th>\n",
       "      <th>DETAIL</th>\n",
       "      <th>QUINN/EDUCATION INCENTIVE</th>\n",
       "      <th>TOTAL EARNINGS</th>\n",
       "      <th>POSTAL</th>\n",
       "    </tr>\n",
       "  </thead>\n",
       "  <tbody>\n",
       "    <tr>\n",
       "      <th>0</th>\n",
       "      <td>Williams,David C.</td>\n",
       "      <td>Boston Police Department</td>\n",
       "      <td>Police Officer</td>\n",
       "      <td>95,184.68</td>\n",
       "      <td>NaN</td>\n",
       "      <td>503,025.78</td>\n",
       "      <td>45,176.88</td>\n",
       "      <td>5,307.62</td>\n",
       "      <td>24,610.00</td>\n",
       "      <td>4,375.69</td>\n",
       "      <td>677,680.65</td>\n",
       "      <td>02356</td>\n",
       "    </tr>\n",
       "    <tr>\n",
       "      <th>1</th>\n",
       "      <td>Earley,John W</td>\n",
       "      <td>Boston Police Department</td>\n",
       "      <td>Police Lieutenant</td>\n",
       "      <td>26,130.54</td>\n",
       "      <td>13,001.47</td>\n",
       "      <td>204,120.61</td>\n",
       "      <td>668.36</td>\n",
       "      <td>NaN</td>\n",
       "      <td>440.00</td>\n",
       "      <td>6,532.63</td>\n",
       "      <td>250,893.61</td>\n",
       "      <td>02131</td>\n",
       "    </tr>\n",
       "    <tr>\n",
       "      <th>2</th>\n",
       "      <td>Bucelewicz,Helen</td>\n",
       "      <td>Boston Police Department</td>\n",
       "      <td>Police Officer</td>\n",
       "      <td>8,676.89</td>\n",
       "      <td>NaN</td>\n",
       "      <td>200,000.00</td>\n",
       "      <td>NaN</td>\n",
       "      <td>NaN</td>\n",
       "      <td>NaN</td>\n",
       "      <td>NaN</td>\n",
       "      <td>208,676.89</td>\n",
       "      <td>02135</td>\n",
       "    </tr>\n",
       "    <tr>\n",
       "      <th>3</th>\n",
       "      <td>Evans,William B</td>\n",
       "      <td>Boston Police Department</td>\n",
       "      <td>Commissioner (Bpd)</td>\n",
       "      <td>149,999.93</td>\n",
       "      <td>3,461.56</td>\n",
       "      <td>165,858.44</td>\n",
       "      <td>NaN</td>\n",
       "      <td>NaN</td>\n",
       "      <td>NaN</td>\n",
       "      <td>NaN</td>\n",
       "      <td>319,319.93</td>\n",
       "      <td>02127</td>\n",
       "    </tr>\n",
       "    <tr>\n",
       "      <th>4</th>\n",
       "      <td>Jones,Ronnie C</td>\n",
       "      <td>Boston Police Department</td>\n",
       "      <td>Police Officer</td>\n",
       "      <td>462,149.98</td>\n",
       "      <td>NaN</td>\n",
       "      <td>114,973.46</td>\n",
       "      <td>NaN</td>\n",
       "      <td>NaN</td>\n",
       "      <td>NaN</td>\n",
       "      <td>NaN</td>\n",
       "      <td>577,123.44</td>\n",
       "      <td>02126</td>\n",
       "    </tr>\n",
       "  </tbody>\n",
       "</table>\n",
       "</div>"
      ],
      "text/plain": [
       "                NAME           DEPARTMENT_NAME               TITLE  \\\n",
       "0  Williams,David C.  Boston Police Department      Police Officer   \n",
       "1      Earley,John W  Boston Police Department   Police Lieutenant   \n",
       "2   Bucelewicz,Helen  Boston Police Department      Police Officer   \n",
       "3    Evans,William B  Boston Police Department  Commissioner (Bpd)   \n",
       "4     Jones,Ronnie C  Boston Police Department      Police Officer   \n",
       "\n",
       "      REGULAR      RETRO       OTHER   OVERTIME   INJURED     DETAIL  \\\n",
       "0   95,184.68        NaN  503,025.78  45,176.88  5,307.62  24,610.00   \n",
       "1   26,130.54  13,001.47  204,120.61     668.36       NaN     440.00   \n",
       "2    8,676.89        NaN  200,000.00        NaN       NaN        NaN   \n",
       "3  149,999.93   3,461.56  165,858.44        NaN       NaN        NaN   \n",
       "4  462,149.98        NaN  114,973.46        NaN       NaN        NaN   \n",
       "\n",
       "  QUINN/EDUCATION INCENTIVE TOTAL EARNINGS POSTAL  \n",
       "0                  4,375.69     677,680.65  02356  \n",
       "1                  6,532.63     250,893.61  02131  \n",
       "2                       NaN     208,676.89  02135  \n",
       "3                       NaN     319,319.93  02127  \n",
       "4                       NaN     577,123.44  02126  "
      ]
     },
     "execution_count": 5,
     "metadata": {},
     "output_type": "execute_result"
    }
   ],
   "source": [
    "boston = pd.read_csv('data/boston_direct.csv', encoding=\"utf8\")\n",
    "\n",
    "boston = boston[ boston['TOTAL EARNINGS'] != 'TOTAL EARNINGS' ]\n",
    "\n",
    "boston.head()"
   ]
  },
  {
   "cell_type": "code",
   "execution_count": 22,
   "metadata": {},
   "outputs": [
    {
     "data": {
      "text/plain": [
       "DEPARTMENT_NAME\n",
       "ASD Human Resources             133675.28\n",
       "ASD Intergvernmtl Relations      60171.43\n",
       "ASD Office Of Labor Relation     99809.07\n",
       "ASD Office of Budget Mangmnt    148105.33\n",
       "ASD Purchasing Division         102762.71\n",
       "Name: TOTAL EARNINGS, dtype: float64"
      ]
     },
     "execution_count": 22,
     "metadata": {},
     "output_type": "execute_result"
    }
   ],
   "source": [
    "boston['TOTAL EARNINGS'].replace(to_replace=r',', value='', regex=True, inplace=True)\n",
    "boston['TOTAL EARNINGS'] = boston['TOTAL EARNINGS'].astype(float)\n",
    "\n",
    "groupedGain = boston.groupby('DEPARTMENT_NAME')['TOTAL EARNINGS']\n",
    "\n",
    "# Il nous reste plus qu'à appliquer la fonction d'agrégation\n",
    "groupedGain.agg(lambda x : x.max() - x.min()).head()"
   ]
  },
  {
   "cell_type": "code",
   "execution_count": 25,
   "metadata": {},
   "outputs": [
    {
     "data": {
      "text/plain": [
       "DEPARTMENT_NAME\n",
       "ASD Human Resources               133675.28\n",
       "ASD Intergvernmtl Relations        60171.43\n",
       "ASD Office Of Labor Relation       99809.07\n",
       "ASD Office of Budget Mangmnt      148105.33\n",
       "ASD Purchasing Division           102762.71\n",
       "Accountability                     90935.76\n",
       "Achievement Gap                   165804.27\n",
       "Advancement & Ext. Affairs        183183.03\n",
       "Alighieri Montessori School       135100.95\n",
       "Assessing Department              141140.71\n",
       "Auditing Department               148812.05\n",
       "BPS Adams Elementary              125845.90\n",
       "BPS Adult Education               132405.09\n",
       "BPS Alternative Education         142393.51\n",
       "BPS Alternative Education HS      117673.87\n",
       "BPS Another Course To Colleg      152036.19\n",
       "BPS Athletics                     193777.15\n",
       "BPS Bates Elementary              134694.48\n",
       "BPS Beethoven Elementary          126586.02\n",
       "BPS Blackstone Elementary         126262.72\n",
       "BPS Boston Arts Academy           136420.75\n",
       "BPS Boston Comm Leadership Ac     155825.22\n",
       "BPS Boston Evening Academy        130746.09\n",
       "BPS Boston International HS       141055.84\n",
       "BPS Boston Latin                  166825.75\n",
       "BPS Boston School Committee        75019.51\n",
       "BPS Bradley Elementary            128377.67\n",
       "BPS Brighton High                 149190.84\n",
       "BPS Burke High                    173640.64\n",
       "BPS Business Service              140918.34\n",
       "                                    ...    \n",
       "Public Works Department           216631.22\n",
       "Quincy Upper School               135154.84\n",
       "Registry Division                 108600.72\n",
       "Research Assess & Eval            120795.84\n",
       "Roosevelt K-8                     142381.33\n",
       "School Support & Tranformation    101241.75\n",
       "Strategy Department               122045.31\n",
       "Student Support Svc               123578.20\n",
       "Superintendent                    449065.20\n",
       "Teaching & Learning               167440.74\n",
       "Tech Boston Academy               161956.20\n",
       "Tobin K-8                         227806.29\n",
       "Traffic Division                  202982.79\n",
       "Transportation-Parking Clerk      129403.59\n",
       "Treasury-Collecting Division      143434.48\n",
       "Treasury-Treasury Division        168012.24\n",
       "UP \"Unlocking Potential\" Acad     115919.21\n",
       "UP Academy Dorchester             120051.09\n",
       "UP Academy Holland                124409.75\n",
       "Umana Middle                      155228.33\n",
       "Unified Student Svc               145758.08\n",
       "Veterans' Services                104745.12\n",
       "WREC: Urban Science Academy       156794.08\n",
       "Warren/Prescott K-8               141895.42\n",
       "West Roxbury Academy              140658.00\n",
       "West Zone ELC                     136720.46\n",
       "Women's Advancement                45282.75\n",
       "Workers Compensation Service       84057.20\n",
       "Young Achievers K-8               131527.56\n",
       "Youth Engagement & Employment      82112.00\n",
       "Name: TOTAL EARNINGS, Length: 226, dtype: float64"
      ]
     },
     "execution_count": 25,
     "metadata": {},
     "output_type": "execute_result"
    }
   ],
   "source": [
    "\n"
   ]
  }
 ],
 "metadata": {
  "kernelspec": {
   "display_name": "Python 3",
   "language": "python",
   "name": "python3"
  },
  "language_info": {
   "codemirror_mode": {
    "name": "ipython",
    "version": 3
   },
   "file_extension": ".py",
   "mimetype": "text/x-python",
   "name": "python",
   "nbconvert_exporter": "python",
   "pygments_lexer": "ipython3",
   "version": "3.5.2"
  }
 },
 "nbformat": 4,
 "nbformat_minor": 2
}
