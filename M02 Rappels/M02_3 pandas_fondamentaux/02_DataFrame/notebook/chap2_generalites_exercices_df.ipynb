{
 "cells": [
  {
   "cell_type": "markdown",
   "metadata": {},
   "source": [
    "# Généralités\n",
    "\n",
    "## Exercices manipulation des index & column\n",
    "\n",
    "Remplacez à l'aide de la méthode replace de Pandas les données manquantes par np.nan de Numpy :\n",
    "\n",
    "```python\n",
    "df = pd.DataFrame(\n",
    "    [\n",
    "        [1, \"2\", None, 3],\n",
    "        [4, None, \"5\", 6],\n",
    "        [7, 8, 9, 10],\n",
    "        [\"None\", \"\", None, \"NAN\"],\n",
    "    ],\n",
    "    index=['a', 'b', 'c', 'd'],\n",
    "    columns = ['A', 'B', 'C', 'D']\n",
    ")\n",
    "\n",
    "```\n",
    "\n",
    "## Exercice convertir un array Numpy en DataFrame\n",
    "\n",
    "Redimensionnez la série suivantes en un DataFrame de dimension 3 lignes 5 colonnes, nommez les lignes a, b, c et les 5 colonnes avec d e f g h :\n",
    "\n",
    "```python\n",
    "A = pd.Series(np.random.randint(1, 10, 15))\n",
    "```\n",
    "\n",
    "## Exercice appliquer une fonction à un DataFrame\n",
    "\n",
    "Soit le DataFrame C suivant :\n",
    "\n",
    "```python\n",
    "\n",
    "C = pd.DataFrame( np.random.randn(5, 5), columns=list(\"abcde\"), index=list(\"fghij\" ))\n",
    "\n",
    "```\n",
    "\n",
    "1. Mettez l'ensemble des valeurs en valeur absolue. Utilisez la fonction np.abs de Numpy.\n",
    "\n",
    "2. Calculez l'amplitude des valeurs sur les lignes puis les colonnes. Vous pouvez utiliser la fonction apply sur le DataFrame.\n",
    "\n",
    "## Exercice somme et remplacement\n",
    "\n",
    "Soit le DataFrame suivant :\n",
    "\n",
    "```python\n",
    "C = pd.DataFrame( np.random.randn(5, 5), columns=list(\"abcde\"), index=list(\"fghij\"))\n",
    "```\n",
    "\n",
    "1. Faites la somme de toutes les valeurs négatives de C.\n",
    "\n",
    "2. Remplacez dans la colonne b les valeurs négatives par la moyenne des valeurs positives de la colonne.\n"
   ]
  }
 ],
 "metadata": {
  "kernelspec": {
   "display_name": "Python 3",
   "language": "python",
   "name": "python3"
  },
  "language_info": {
   "codemirror_mode": {
    "name": "ipython",
    "version": 3
   },
   "file_extension": ".py",
   "mimetype": "text/x-python",
   "name": "python",
   "nbconvert_exporter": "python",
   "pygments_lexer": "ipython3",
   "version": "3.5.2"
  }
 },
 "nbformat": 4,
 "nbformat_minor": 2
}
