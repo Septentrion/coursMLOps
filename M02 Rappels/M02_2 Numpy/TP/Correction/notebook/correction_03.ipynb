{
 "cells": [
  {
   "cell_type": "code",
   "execution_count": 7,
   "metadata": {},
   "outputs": [],
   "source": [
    "import numpy as np\n",
    "import csv\n",
    "import pprint\n",
    "pp = pprint.PrettyPrinter(indent=4)\n",
    "\n",
    "# 1 récupération des données\n",
    "with open('../Data/titanic.csv', 'r') as f:\n",
    "    data_reader = csv.reader(f, delimiter=',', quotechar='\"')\n",
    "    dd = [(d[1], d[2], d[3], d[4], d[5])\n",
    "            for d in data_reader if d[5] != ''][1:]\n",
    "data = np.array(dd, dtype=np.dtype([\n",
    "    ('Survived', np.dtype('i4')),\n",
    "    ('Pclass', np.dtype('i4')),\n",
    "    ('Name', np.dtype('U14')),\n",
    "    ('Sex', np.dtype('U8')),\n",
    "    ('Age', np.dtype('f8'))\n",
    "]))\n",
    "\n",
    "\n",
    "# total des individus du datasets\n",
    "total = len(data)\n",
    "print(total)\n",
    "\n",
    "# 2\n"
   ]
  },
  {
   "cell_type": "code",
   "execution_count": 15,
   "metadata": {},
   "outputs": [
    {
     "name": "stdout",
     "output_type": "stream",
     "text": [
      "290\n",
      "290\n",
      " 41.0%\n"
     ]
    }
   ],
   "source": [
    "# 2 total de personnes qui ont survécu\n",
    "sumSurvived = ( data['Survived'] == 1 ).sum()\n",
    "\n",
    "# Pourcentage des survivants\n",
    "print( f\"{round(sumSurvived/total, 2) * 100}%\")\n"
   ]
  },
  {
   "cell_type": "code",
   "execution_count": 37,
   "metadata": {},
   "outputs": [
    {
     "name": "stdout",
     "output_type": "stream",
     "text": [
      "41.0%\n",
      "27.59%\n",
      "13.03%\n",
      "40.62\n",
      "0.4061624649859944\n",
      "True\n"
     ]
    }
   ],
   "source": [
    "# 3 Calculez le pourcentage de femme et d'homme qui ont survécu (toute population)\n",
    "\n",
    "survivedFemale = ( (data['Sex'] == 'female') & (data['Survived'] == 1) ).sum()\n",
    "survivedMale = ( (data['Sex'] == 'male') & (data['Survived'] == 1) ).sum()\n",
    "\n",
    "print(survivedFemale > survivedMale)\n",
    "print(survivedFemale, survivedMale)\n",
    "print(f\"Pourcentage de femmes qui ont survécu : {round( survivedFemale/total * 100, 2) }%\")\n",
    "print(f\"Pourcentage d'hommes qui ont survécu :{round( survivedMale/total * 100, 2) }%\")\n",
    "\n",
    "# Pourcentage de femme et d'homme survivante parmi respectivement la pop de femmes et d'hommes (fréquence relative)\n",
    "totalFemale = (data['Sex'] == 'female').sum()\n",
    "totalMale = (data['Sex'] == 'male').sum()\n",
    "\n",
    "print(f\"Pourcentage de femmes survivantes parmi la pop de femmes: {round(survivedFemale/totalFemale * 100, 2)}%\" )\n",
    "print(f\"Pourcentage d'hommes survivants parmi la pop d'hommes: {round(survivedMale/totalMale * 100, 2)}%\")\n"
   ]
  },
  {
   "cell_type": "code",
   "execution_count": 41,
   "metadata": {},
   "outputs": [
    {
     "name": "stdout",
     "output_type": "stream",
     "text": [
      "122\n",
      "True\n"
     ]
    }
   ],
   "source": [
    "# 4 Combien de personnes en première classe ont survécu ?\n",
    "( (data['Pclass'] == 1 )& (data['Survived'] == 1) ).sum()\n",
    "\n",
    "# Est ce qu'il y avait plus de surviant en première classe qu'en 3 classe ?\n",
    "\n",
    "survivedTest = ((data['Pclass'] == 1 )& (data['Survived'] == 1) ).sum() > \\\n",
    "((data['Pclass'] == 3 )& (data['Survived'] == 1) ).sum()\n",
    "\n",
    "print(survivedTest)\n"
   ]
  },
  {
   "cell_type": "code",
   "execution_count": 46,
   "metadata": {},
   "outputs": [
    {
     "name": "stdout",
     "output_type": "stream",
     "text": [
      "11.0\n",
      "6.0\n",
      "female 44.0\n",
      "male 22.0\n",
      "female 13.0\n",
      "male 11.0\n"
     ]
    }
   ],
   "source": [
    "# 5 et 6 Calculez le pourcentage de femme en première classe qui ont survécu.\n",
    "survivedFemPcOne = ( (data['Pclass'] == 1) & (data['Survived'] == 1) & (data['Sex'] == 'female') ).sum()\n",
    "survivedMalPcOne = ( (data['Pclass'] == 1) & (data['Survived'] == 1) & (data['Sex'] == 'male') ).sum()\n",
    "\n",
    "print(f\"Pourcentage de femmes en première classe qui ont survécu : {round( survivedFemPcOne/total * 100, 2) }%\")\n",
    "print(f\"Pourcentage d'hommes en première classe qui ont survécu :{round( survivedMalPcOne/total * 100, 2) }%\")\n",
    "\n",
    "# --- On peut comparer ces résultats par rapport à la troisième classe\n",
    "survivedFemPcThree = ( (data['Pclass'] == 3) & (data['Survived'] == 1) & (data['Sex'] == 'female') ).sum()\n",
    "survivedMalPcThree = ( (data['Pclass'] == 3) & (data['Survived'] == 1) & (data['Sex'] == 'male') ).sum()\n",
    "\n",
    "print(f\"Pourcentage de femmes en troisième classe qui ont survécu : {round( survivedFemPcThree/total * 100, 2) }%\")\n",
    "print(f\"Pourcentage d'hommes en troisième classe qui ont survécu :{round( survivedMalPcThree/total * 100, 2) }%\")\n",
    "\n",
    "# Par rapport à la population de femme de chacune des classes considérées\n",
    "\n",
    "totalFemPcOne = ( (data['Pclass'] == 1) & (data['Sex'] == 'female') ).sum()\n",
    "print(f\"Pourcentage de femmes qui ont survécu en première classe dans leur population \\\n",
    "{round(survivedFemPcOne/totalFemPcOne * 100, 2)}%\"\n",
    ")\n",
    "\n",
    "totalFemPcThree = ( (data['Pclass'] == 3) & (data['Sex'] == 'female') ).sum()\n",
    "print(f\"Pourcentage de femmes qui ont survécu en troisième classe dans leur population \\\n",
    "{round(survivedFemPcThree/totalFemPcThree * 100, 2)}%\"\n",
    ")\n"
   ]
  },
  {
   "cell_type": "code",
   "execution_count": 49,
   "metadata": {},
   "outputs": [
    {
     "name": "stdout",
     "output_type": "stream",
     "text": [
      "79.58\n",
      "moyenne Age 29.69911764705882\n",
      "ecart type 14.516321150817316\n"
     ]
    }
   ],
   "source": [
    "# 7 Calculez l'étendu des valeurs des ages, la moyenne des ages et l'écart type.\n",
    "\n",
    "# étendu\n",
    "print ( np.max(data['Age'] ) - np.min(data['Age']) )\n",
    "# age moyen\n",
    "print( \"moyenne Age\", round( np.mean(data['Age']), 2 ) )\n",
    "\n",
    "# On regarde si les ages des passagers sont resserrés autour de l'âge moyen\n",
    "print( \"ecart type\", round( np.std(data['Age']), 2 ) )"
   ]
  },
  {
   "cell_type": "code",
   "execution_count": 53,
   "metadata": {},
   "outputs": [
    {
     "data": {
      "text/plain": [
       "28.34"
      ]
     },
     "execution_count": 53,
     "metadata": {},
     "output_type": "execute_result"
    }
   ],
   "source": [
    "# 8 Calculez l'age moyen des personnes qui ont survécu.\n",
    "mask = data['Survived'] == 1 \n",
    "\n",
    "print( round( np.mean( data['Age'][mask] ), 2 ) )\n",
    "print(round( np.mean(data['Age']), 2 )  )"
   ]
  }
 ],
 "metadata": {
  "interpreter": {
   "hash": "aee8b7b246df8f9039afb4144a1f6fd8d2ca17a180786b69acc140d282b71a49"
  },
  "kernelspec": {
   "display_name": "Python 3.8.5 64-bit",
   "language": "python",
   "name": "python3"
  },
  "language_info": {
   "codemirror_mode": {
    "name": "ipython",
    "version": 3
   },
   "file_extension": ".py",
   "mimetype": "text/x-python",
   "name": "python",
   "nbconvert_exporter": "python",
   "pygments_lexer": "ipython3",
   "version": "3.8.5"
  }
 },
 "nbformat": 4,
 "nbformat_minor": 2
}
