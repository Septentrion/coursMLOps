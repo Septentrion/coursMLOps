{
 "cells": [
  {
   "cell_type": "code",
   "execution_count": 6,
   "metadata": {},
   "outputs": [],
   "source": [
    "import numpy as np\n",
    "import csv\n",
    "import pprint\n",
    "pp = pprint.PrettyPrinter(indent=4)  \n",
    "\n",
    "# 1\n",
    "with open('../Data/pollution_2016.csv', 'r') as f:\n",
    "    data_reader = csv.reader(f, delimiter=',',quotechar='\"')\n",
    "    data = [(d[0], d[1]) for d in data_reader][1:]\n",
    "\n",
    "data = np.array(data, dtype=np.dtype([\n",
    "    ('country', np.dtype('U14')),\n",
    "    ('total', np.float64)\n",
    "]))\n"
   ]
  },
  {
   "cell_type": "code",
   "execution_count": 7,
   "metadata": {},
   "outputs": [
    {
     "name": "stdout",
     "output_type": "stream",
     "text": [
      "array([('Belgium', 13.2), ('Bulgaria', 15.1), ('Czechia', 13.5),\n",
      "       ('Denmark',  6.8), ('Germany', 23.2), ('Estonia',  9.9),\n",
      "       ('Ireland',  4.6), ('Greece', 19.6), ('Spain', 10.1),\n",
      "       ('France', 14.1), ('Croatia',  7. ), ('Italy', 15.1),\n",
      "       ('Cyprus',  9.2), ('Latvia', 17.2), ('Lithuania', 15.6),\n",
      "       ('Luxembourg', 16.1), ('Hungary', 12.8), ('Malta', 30.2),\n",
      "       ('Netherlands', 13.2), ('Austria', 10.7), ('Poland', 11.4),\n",
      "       ('Portugal', 13.1), ('Romania', 14.5), ('Slovenia', 15.9),\n",
      "       ('Slovakia',  9.3), ('Finland',  7.2), ('Sweden',  6.3),\n",
      "       ('United Kingdom',  9. ), ('Iceland',  7.9), ('Norway',  6.8),\n",
      "       ('Switzerland',  8.9), ('Turkey', 24.5)],\n",
      "      dtype=[('country', '<U14'), ('total', '<f8')])\n"
     ]
    }
   ],
   "source": [
    "pp.pprint(data)"
   ]
  },
  {
   "cell_type": "code",
   "execution_count": 10,
   "metadata": {},
   "outputs": [
    {
     "name": "stdout",
     "output_type": "stream",
     "text": [
      "Malta 30.2\n"
     ]
    }
   ],
   "source": [
    "# 2\n",
    "(country, total) = data[ data['total'] == np.max(data['total']) ][0]\n",
    "\n",
    "print(country, total)\n"
   ]
  },
  {
   "cell_type": "code",
   "execution_count": 13,
   "metadata": {},
   "outputs": [
    {
     "name": "stdout",
     "output_type": "stream",
     "text": [
      "12.87\n",
      "6.0\n",
      "25.6\n"
     ]
    }
   ],
   "source": [
    "# 2\n",
    "# Moyenne\n",
    "print(np.around( np.mean(data['total']), 2 ) )\n",
    "# Ecart type l'écart moyen des valeurs par rapport à la moyenne \n",
    "# Plus l'écart type est petit plus les valeurs sont centrées autour de la valeur moyenne\n",
    "print(np.around( np.std(data['total']) ) )\n",
    "# On mesure la distance entre la plus petite valeur et la plus grande pour se faire une idée de la dispersion des données\n",
    "print(np.max(data['total']) - np.min(data['total']))"
   ]
  },
  {
   "cell_type": "code",
   "execution_count": 15,
   "metadata": {},
   "outputs": [
    {
     "name": "stdout",
     "output_type": "stream",
     "text": [
      "[('Ireland',  4.6) ('Sweden',  6.3) ('Denmark',  6.8) ('Norway',  6.8)\n",
      " ('Croatia',  7. ) ('Finland',  7.2) ('Iceland',  7.9)\n",
      " ('Switzerland',  8.9) ('United Kingdom',  9. ) ('Cyprus',  9.2)\n",
      " ('Slovakia',  9.3) ('Estonia',  9.9) ('Spain', 10.1) ('Austria', 10.7)\n",
      " ('Poland', 11.4) ('Hungary', 12.8) ('Portugal', 13.1) ('Belgium', 13.2)\n",
      " ('Netherlands', 13.2) ('Czechia', 13.5) ('France', 14.1)\n",
      " ('Romania', 14.5) ('Bulgaria', 15.1) ('Italy', 15.1) ('Lithuania', 15.6)\n",
      " ('Slovenia', 15.9) ('Luxembourg', 16.1) ('Latvia', 17.2) ('Greece', 19.6)\n",
      " ('Germany', 23.2) ('Turkey', 24.5) ('Malta', 30.2)]\n",
      "[('Malta', 30.2) ('Turkey', 24.5) ('Germany', 23.2) ('Greece', 19.6)\n",
      " ('Latvia', 17.2) ('Luxembourg', 16.1) ('Slovenia', 15.9)\n",
      " ('Lithuania', 15.6) ('Italy', 15.1) ('Bulgaria', 15.1) ('Romania', 14.5)\n",
      " ('France', 14.1) ('Czechia', 13.5) ('Netherlands', 13.2)\n",
      " ('Belgium', 13.2) ('Portugal', 13.1) ('Hungary', 12.8) ('Poland', 11.4)\n",
      " ('Austria', 10.7) ('Spain', 10.1) ('Estonia',  9.9) ('Slovakia',  9.3)\n",
      " ('Cyprus',  9.2) ('United Kingdom',  9. ) ('Switzerland',  8.9)\n",
      " ('Iceland',  7.9) ('Finland',  7.2) ('Croatia',  7. ) ('Norway',  6.8)\n",
      " ('Denmark',  6.8) ('Sweden',  6.3) ('Ireland',  4.6)]\n"
     ]
    }
   ],
   "source": [
    "# 3\n",
    "# par ordre croissant\n",
    "dataEsc = np.sort(data, order='total')\n",
    "print( dataEsc)\n",
    "\n",
    "# par ordre décroissant\n",
    "dataDesc = np.sort(data, order='total')[::-1]\n",
    "print( dataDesc)\n",
    "\n"
   ]
  },
  {
   "cell_type": "code",
   "execution_count": 16,
   "metadata": {},
   "outputs": [
    {
     "name": "stdout",
     "output_type": "stream",
     "text": [
      "[('Malta', 30.2) ('Turkey', 24.5) ('Germany', 23.2) ('Greece', 19.6)\n",
      " ('Latvia', 17.2)]\n"
     ]
    }
   ],
   "source": [
    "# 5 \n",
    "\n",
    "print(dataDesc[:5])"
   ]
  },
  {
   "cell_type": "code",
   "execution_count": 33,
   "metadata": {},
   "outputs": [],
   "source": [
    "# 6\n",
    "# Augmentation de 0.01%\n",
    "data['total'] = np.around(data['total'] * 1.0001, 4) \n",
    "# print(data)\n",
    "d = np.column_stack((data['country'], data['total'])) \n",
    "\n",
    "# pp.pprint(d)\n",
    "# attention le header commence par un dièse # valeur par défaut de comments mettez comments = '' pour ne pas l'avoir en début de ligne\n",
    "np.savetxt('../Data/pollution_2017.csv', d, delimiter=',', fmt=\"%s\", header=\"country, prct_rpt_pollution\", comments='')"
   ]
  }
 ],
 "metadata": {
  "kernelspec": {
   "display_name": "Python 3",
   "language": "python",
   "name": "python3"
  },
  "language_info": {
   "codemirror_mode": {
    "name": "ipython",
    "version": 3
   },
   "file_extension": ".py",
   "mimetype": "text/x-python",
   "name": "python",
   "nbconvert_exporter": "python",
   "pygments_lexer": "ipython3",
   "version": "3.7.4"
  }
 },
 "nbformat": 4,
 "nbformat_minor": 2
}
